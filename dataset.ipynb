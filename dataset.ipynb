{
 "cells": [
  {
   "cell_type": "code",
   "execution_count": 1,
   "metadata": {},
   "outputs": [],
   "source": [
    "import tensorflow as tf\n",
    "import numpy as np\n",
    "import pandas as pd\n",
    "import wandb\n",
    "import matplotlib.pyplot as plt\n",
    "import cv2\n",
    "import time as t\n",
    "from PIL import Image\n",
    "from sklearn.model_selection import train_test_split\n",
    "from IPython.display import clear_output\n",
    "import random as rn"
   ]
  },
  {
   "cell_type": "code",
   "execution_count": 2,
   "metadata": {},
   "outputs": [],
   "source": [
    "signs = [\"fist\", \"thumb\", \"V\", \"Hand\"]\n",
    "data_paths = r\"C:\\Users\\Luis\\OneDrive\\Desktop\\Maturaarbeit\\codingMA\\handsigns 2\\data\\ \"\n",
    "test_path = r\"C:\\Users\\Luis\\OneDrive\\Desktop\\Maturaarbeit\\codingMA\\handsigns 2\\test\\ \" \n",
    "num_images = 30\n",
    "img_size = (100,100)\n",
    "rounds = 3\n",
    "# number of pictures = num_images* num of signs * rounds\n",
    "befor_train = len(pd.read_csv(\"paths.csv\"))/len(signs)\n",
    "befor_test = len(pd.read_csv(\"test.csv\"))/len(signs) "
   ]
  },
  {
   "cell_type": "code",
   "execution_count": 3,
   "metadata": {},
   "outputs": [
    {
     "name": "stdout",
     "output_type": "stream",
     "text": [
      "bis jetzt gibt es 1440 trainigns fotos pro zeichen\n",
      "bis jetzt gibt es 60 test fotos pro zeichen\n"
     ]
    }
   ],
   "source": [
    "print(\"bis jetzt gibt es \"+ str(int(befor_train))+ \" trainigns fotos pro zeichen\")\n",
    "print(\"bis jetzt gibt es \"+ str(int(befor_test))+ \" test fotos pro zeichen\")"
   ]
  },
  {
   "cell_type": "code",
   "execution_count": 4,
   "metadata": {},
   "outputs": [],
   "source": [
    "def pictures(num_images, signe_num, r,csv, path, befor):\n",
    "    data = open(csv, 'a')\n",
    "    for k in range(num_images):\n",
    "        rval, frame = vc.read()\n",
    "        cv2.imshow(\"preview\", frame)\n",
    "        cv2.waitKey(100)\n",
    "        frame = cv2.resize(frame, img_size)\n",
    "        nr = befor + r*num_images + k\n",
    "        p = path+ str(signs[signe_num]) +str(int(nr))+'.png'\n",
    "        cv2.imwrite(p, frame)\n",
    "        data.write(\"\\n\"+str(p)+\",\"+ str(signe_num))\n"
   ]
  },
  {
   "cell_type": "markdown",
   "metadata": {},
   "source": [
    "creating the traingsset"
   ]
  },
  {
   "cell_type": "code",
   "execution_count": 6,
   "metadata": {},
   "outputs": [
    {
     "name": "stdout",
     "output_type": "stream",
     "text": [
      "press space to take pictures of Hand\n",
      "done 1/3  press c to continue\n",
      "done 2/3  press c to continue\n",
      "done 3/3  press c to continue\n",
      "done\n"
     ]
    }
   ],
   "source": [
    "befor_train = len(pd.read_csv(\"paths.csv\"))/len(signs) # wie viele fotos pro zeichen es schon im ordner gibt\n",
    "cv2.namedWindow(\"preview\")\n",
    "vc = cv2.VideoCapture(0)\n",
    "\n",
    "for k in range(len(signs)):\n",
    "    clear_output()\n",
    "    print(\"press space to take pictures of \"+str(signs[k]))\n",
    "    while cv2.waitKey(0) != ord(\" \"):\n",
    "        continue\n",
    "    for i in range(rounds):\n",
    "        pictures(num_images,k, i, \"paths.csv\", data_paths, befor_train)\n",
    "        print(\"done \"+ str(i+1) + \"/\"+str(rounds) +\"  press c to continue\")\n",
    "        while cv2.waitKey(1) != ord(\"c\"):\n",
    "            continue\n",
    "\n",
    "print(\"done\")\n",
    "vc.release()\n",
    "cv2.destroyWindow(\"preview\")\n"
   ]
  },
  {
   "cell_type": "markdown",
   "metadata": {},
   "source": [
    "creating the \"live\" validation set"
   ]
  },
  {
   "cell_type": "code",
   "execution_count": 7,
   "metadata": {},
   "outputs": [
    {
     "name": "stdout",
     "output_type": "stream",
     "text": [
      "press space to take pictures of Hand\n",
      "done 1/3  press c to continue\n",
      "done 2/3  press c to continue\n",
      "done 3/3  press c to continue\n",
      "done\n"
     ]
    }
   ],
   "source": [
    "befor_test = len(pd.read_csv(\"test.csv\"))/len(signs) # wie viele fotos pro zeichen es schon im ordner gibt\n",
    "# take pictures\n",
    "vc = cv2.VideoCapture(0)\n",
    "cv2.namedWindow(\"preview\")\n",
    "#vc = cv2.VideoCapture(0)\n",
    "\n",
    "for k in range(len(signs)):\n",
    "    clear_output()\n",
    "    print(\"press space to take pictures of \"+str(signs[k]))\n",
    "    while cv2.waitKey(0) != ord(\" \"):\n",
    "        continue\n",
    "    for i in range(rounds):\n",
    "        pictures(10,k, i, \"test.csv\", test_path, befor_test)\n",
    "        print(\"done \"+ str(i+1) + \"/\"+str(rounds) +\"  press c to continue\")\n",
    "        while cv2.waitKey(1) != ord(\"c\"):\n",
    "            continue\n",
    "\n",
    "print(\"done\")\n",
    "vc.release()\n",
    "cv2.destroyWindow(\"preview\")"
   ]
  }
 ],
 "metadata": {
  "kernelspec": {
   "display_name": "Python 3",
   "language": "python",
   "name": "python3"
  },
  "language_info": {
   "codemirror_mode": {
    "name": "ipython",
    "version": 3
   },
   "file_extension": ".py",
   "mimetype": "text/x-python",
   "name": "python",
   "nbconvert_exporter": "python",
   "pygments_lexer": "ipython3",
   "version": "3.10.11"
  }
 },
 "nbformat": 4,
 "nbformat_minor": 2
}
